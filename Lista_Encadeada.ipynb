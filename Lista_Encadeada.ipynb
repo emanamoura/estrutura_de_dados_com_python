{
  "nbformat": 4,
  "nbformat_minor": 0,
  "metadata": {
    "colab": {
      "name": "Lista Encadeada.ipynb",
      "provenance": [],
      "authorship_tag": "ABX9TyMJ0UqPCl8TKmde0hzu+6gu",
      "include_colab_link": true
    },
    "kernelspec": {
      "name": "python3",
      "display_name": "Python 3"
    },
    "language_info": {
      "name": "python"
    }
  },
  "cells": [
    {
      "cell_type": "markdown",
      "metadata": {
        "id": "view-in-github",
        "colab_type": "text"
      },
      "source": [
        "<a href=\"https://colab.research.google.com/github/emanamoura/estrutura_de_dados_com_python/blob/main/Lista_Encadeada.ipynb\" target=\"_parent\"><img src=\"https://colab.research.google.com/assets/colab-badge.svg\" alt=\"Open In Colab\"/></a>"
      ]
    },
    {
      "cell_type": "code",
      "execution_count": 1,
      "metadata": {
        "id": "nk_FMyU2crWT"
      },
      "outputs": [],
      "source": [
        "import numpy as np\n",
        "\n",
        "class No:\n",
        "  def __init__(self,valor):\n",
        "    self.valor = valor\n",
        "    self.proximo = None\n",
        "\n",
        "  def mostra_no(self):\n",
        "    print(self.valor)"
      ]
    },
    {
      "cell_type": "code",
      "source": [
        "class ListaEncadeada:\n",
        "  def __init__(self):\n",
        "    self.primeiro = None"
      ],
      "metadata": {
        "id": "EUq7ExvwYhy0"
      },
      "execution_count": 2,
      "outputs": []
    },
    {
      "cell_type": "code",
      "source": [
        ""
      ],
      "metadata": {
        "id": "nnXupSLcdF3I"
      },
      "execution_count": null,
      "outputs": []
    }
  ]
}