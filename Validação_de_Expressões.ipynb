{
  "nbformat": 4,
  "nbformat_minor": 0,
  "metadata": {
    "colab": {
      "name": "Validação de Expressões.ipynb",
      "provenance": [],
      "collapsed_sections": [],
      "authorship_tag": "ABX9TyPD1a5UXbVFcHk2QrC0xVSm",
      "include_colab_link": true
    },
    "kernelspec": {
      "name": "python3",
      "display_name": "Python 3"
    },
    "language_info": {
      "name": "python"
    }
  },
  "cells": [
    {
      "cell_type": "markdown",
      "metadata": {
        "id": "view-in-github",
        "colab_type": "text"
      },
      "source": [
        "<a href=\"https://colab.research.google.com/github/emanamoura/estrutura_de_dados_com_python/blob/main/Valida%C3%A7%C3%A3o_de_Express%C3%B5es.ipynb\" target=\"_parent\"><img src=\"https://colab.research.google.com/assets/colab-badge.svg\" alt=\"Open In Colab\"/></a>"
      ]
    },
    {
      "cell_type": "code",
      "execution_count": 3,
      "metadata": {
        "id": "h5q_31O-7_lb"
      },
      "outputs": [],
      "source": [
        "import numpy as np"
      ]
    },
    {
      "cell_type": "code",
      "source": [
        "class Pilha:\n",
        "  def __init__(self, capacidade):\n",
        "    self.__capacidade = capacidade\n",
        "    self.__topo = -1\n",
        "    self.valores = np.chararray(self.__capacidade, unicode=True)\n",
        "\n",
        "  def pilha_vazia(self):\n",
        "    if self.__topo == -1:\n",
        "      return True\n",
        "    return False\n",
        "  \n",
        "  def pilha_cheia(self):\n",
        "    if self.__topo + 1 == self.__capacidade:\n",
        "      return True\n",
        "    return False\n",
        "  \n",
        "  def empilhar(self,valor):\n",
        "    if self.pilha_cheia():\n",
        "      return -1\n",
        "    self.__topo += 1\n",
        "    self.valores[self.__topo] = valor\n",
        "\n",
        "  def desempilhar(self):\n",
        "    if self.pilha_vazia():\n",
        "      return - 1\n",
        "    valor = self.valores[self.__topo]\n",
        "    self.__topo -= 1;\n",
        "    return valor\n",
        "  \n",
        "  def ver_topo(self):\n",
        "    if self.__topo != -1:\n",
        "      return self.valores[self.__topo]\n",
        "    return -1"
      ],
      "metadata": {
        "id": "wDAvlcTc902i"
      },
      "execution_count": 11,
      "outputs": []
    },
    {
      "cell_type": "code",
      "source": [
        "expressao = input(\"Digite sua expressão: \")\n",
        "pilha = Pilha(len(expressao))\n",
        "\n",
        "for caractere in expressao:  \n",
        "  if caractere == '{' or caractere == '(' or caractere == '[':\n",
        "    pilha.empilhar(caractere)\n",
        "  elif caractere == '}' or caractere == ')' or caractere == ']':\n",
        "    if not pilha.pilha_vazia():\n",
        "      chx = str(pilha\n",
        "                .desempilhar())\n",
        "      if (caractere == '}' and chx != '{') or (caractere == ']' and chx != '[') or (caractere == ')' and chx != '(') :\n",
        "        print(f'Erro: {caractere}')\n",
        "        break\n",
        "    else:\n",
        "     print(f'Erro: {caractere}')\n",
        "if not pilha.pilha_vazia():\n",
        "  print('Erro')"
      ],
      "metadata": {
        "id": "n0OBdYby3FcN",
        "colab": {
          "base_uri": "https://localhost:8080/"
        },
        "outputId": "5ebb41d8-f9f4-4080-d594-5297944ecc1d"
      },
      "execution_count": 15,
      "outputs": [
        {
          "output_type": "stream",
          "name": "stdout",
          "text": [
            "Digite sua expressão: nunu(abc{cucu}]\n",
            "Erro: ]\n"
          ]
        }
      ]
    }
  ]
}