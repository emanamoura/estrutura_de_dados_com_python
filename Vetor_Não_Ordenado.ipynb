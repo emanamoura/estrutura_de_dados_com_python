{
  "nbformat": 4,
  "nbformat_minor": 0,
  "metadata": {
    "colab": {
      "name": "Vetor Não Ordenado.ipynb",
      "provenance": [],
      "authorship_tag": "ABX9TyPN3ABREY7ZMlSVDSeMUWhk",
      "include_colab_link": true
    },
    "kernelspec": {
      "name": "python3",
      "display_name": "Python 3"
    },
    "language_info": {
      "name": "python"
    }
  },
  "cells": [
    {
      "cell_type": "markdown",
      "metadata": {
        "id": "view-in-github",
        "colab_type": "text"
      },
      "source": [
        "<a href=\"https://colab.research.google.com/github/emanamoura/estrutura_de_dados_com_python/blob/main/Vetor_N%C3%A3o_Ordenado.ipynb\" target=\"_parent\"><img src=\"https://colab.research.google.com/assets/colab-badge.svg\" alt=\"Open In Colab\"/></a>"
      ]
    },
    {
      "cell_type": "code",
      "execution_count": 2,
      "metadata": {
        "id": "IWu3IWvG5iTw"
      },
      "outputs": [],
      "source": [
        "import numpy as np"
      ]
    },
    {
      "cell_type": "code",
      "source": [
        "class VetorNaoOrdenado:\n",
        "  def __init__(self, capacidade):\n",
        "    self.capacidade = capacidade\n",
        "    self.ultima_posicao = -1\n",
        "    self.valores = np.empty(self.capacidade, dtype=int)\n",
        "\n",
        "  # O(n)\n",
        "  def imprime(self):\n",
        "    if self.ultima_posicao == -1:\n",
        "      print('O vetor está vazio')\n",
        "    else:\n",
        "      for i in range(self.ultima_posicao + 1):\n",
        "        print(i, '-', self.valores[i])\n",
        "  # O(1)  \n",
        "  def insere(self, valor):\n",
        "    if self.ultima_posicao == self.capacidade - 1:\n",
        "      print('Capacidade máxima atingida')\n",
        "    else:\n",
        "      self.ultima_posicao += 1\n",
        "      self.valores[self.ultima_posicao] = valor\n",
        "  \n",
        "  def pesquisar(self,valor):\n",
        "    for i in range(self.ultima_posicao + 1):\n",
        "      if self.valores[i] == valor:\n",
        "        return i\n",
        "    return -1\n",
        "  \n",
        "  def excluir(self, valor):\n",
        "    posicao = self.pesquisar(valor)\n",
        "    if posicao != -1:\n",
        "      for i in range(posicao, self.ultima_posicao):\n",
        "        self.valores[i] = self.valores[i + 1]\n",
        "      self.ultima_posicao -= 1\n",
        "    return -1\n",
        "\n"
      ],
      "metadata": {
        "id": "vIHh26oD68Vv"
      },
      "execution_count": 22,
      "outputs": []
    },
    {
      "cell_type": "code",
      "source": [
        "vetor = VetorNaoOrdenado(5)"
      ],
      "metadata": {
        "id": "GGnzkzcQ79zr"
      },
      "execution_count": 17,
      "outputs": []
    },
    {
      "cell_type": "code",
      "source": [
        "vetor.imprime()"
      ],
      "metadata": {
        "colab": {
          "base_uri": "https://localhost:8080/"
        },
        "id": "de9E38uB8CMT",
        "outputId": "e5a69638-3e42-4d3b-d8b6-5bd6a4f1e7af"
      },
      "execution_count": 5,
      "outputs": [
        {
          "output_type": "stream",
          "name": "stdout",
          "text": [
            "O vetor está vazio\n"
          ]
        }
      ]
    },
    {
      "cell_type": "code",
      "source": [
        "vetor.insere(2)\n",
        "vetor.imprime()"
      ],
      "metadata": {
        "colab": {
          "base_uri": "https://localhost:8080/"
        },
        "id": "9v-96HRi835o",
        "outputId": "e5e2c205-ea62-4579-bdf8-38239eef29c3"
      },
      "execution_count": 18,
      "outputs": [
        {
          "output_type": "stream",
          "name": "stdout",
          "text": [
            "0 - 2\n"
          ]
        }
      ]
    },
    {
      "cell_type": "code",
      "source": [
        "vetor.insere(4)\n",
        "vetor.insere(7)\n",
        "vetor.insere(10)\n",
        "vetor.insere(87)"
      ],
      "metadata": {
        "id": "ckOXIitB9FNw"
      },
      "execution_count": 19,
      "outputs": []
    },
    {
      "cell_type": "code",
      "source": [
        "vetor.imprime()"
      ],
      "metadata": {
        "colab": {
          "base_uri": "https://localhost:8080/"
        },
        "id": "nNOrIueM9NDt",
        "outputId": "2e41b10a-0e7e-45da-eaef-83251d7c110a"
      },
      "execution_count": 20,
      "outputs": [
        {
          "output_type": "stream",
          "name": "stdout",
          "text": [
            "0 - 2\n",
            "1 - 4\n",
            "2 - 7\n",
            "3 - 10\n",
            "4 - 87\n"
          ]
        }
      ]
    },
    {
      "cell_type": "code",
      "source": [
        "vetor.insere(198)"
      ],
      "metadata": {
        "id": "84qCvCPq9PkF",
        "outputId": "55601144-f7cb-4a74-f188-b5eb74ade43f",
        "colab": {
          "base_uri": "https://localhost:8080/"
        }
      },
      "execution_count": 9,
      "outputs": [
        {
          "output_type": "stream",
          "name": "stdout",
          "text": [
            "Capacidade máxima atingida\n"
          ]
        }
      ]
    },
    {
      "cell_type": "code",
      "source": [
        "vetor.pesquisar(9)"
      ],
      "metadata": {
        "colab": {
          "base_uri": "https://localhost:8080/"
        },
        "id": "XDNKvZiD1qZH",
        "outputId": "1a619972-5413-4618-c0d2-29c582581ec1"
      },
      "execution_count": 10,
      "outputs": [
        {
          "output_type": "execute_result",
          "data": {
            "text/plain": [
              "-1"
            ]
          },
          "metadata": {},
          "execution_count": 10
        }
      ]
    },
    {
      "cell_type": "code",
      "source": [
        "vetor.pesquisar(7)"
      ],
      "metadata": {
        "id": "odLB0czF1zFf",
        "outputId": "85f88872-885e-4346-8c56-7fd62780459e",
        "colab": {
          "base_uri": "https://localhost:8080/"
        }
      },
      "execution_count": 11,
      "outputs": [
        {
          "output_type": "execute_result",
          "data": {
            "text/plain": [
              "2"
            ]
          },
          "metadata": {},
          "execution_count": 11
        }
      ]
    },
    {
      "cell_type": "code",
      "source": [
        "vetor.excluir(2)"
      ],
      "metadata": {
        "id": "ZqsYZzeh3o4D"
      },
      "execution_count": 21,
      "outputs": []
    },
    {
      "cell_type": "code",
      "source": [
        "vetor.imprime()"
      ],
      "metadata": {
        "id": "fZLrbK694okI",
        "outputId": "4185cb25-fa5b-4a19-98d8-deab627a22c5",
        "colab": {
          "base_uri": "https://localhost:8080/"
        }
      },
      "execution_count": 23,
      "outputs": [
        {
          "output_type": "stream",
          "name": "stdout",
          "text": [
            "0 - 4\n",
            "1 - 7\n",
            "2 - 10\n",
            "3 - 87\n"
          ]
        }
      ]
    },
    {
      "cell_type": "code",
      "source": [
        "vetor.excluir(87)"
      ],
      "metadata": {
        "id": "POUzYI4v4syu"
      },
      "execution_count": 25,
      "outputs": []
    },
    {
      "cell_type": "code",
      "source": [
        "vetor.imprime()"
      ],
      "metadata": {
        "id": "3lGOaUC-4weo",
        "outputId": "edda5c5c-2629-42b8-e1e5-02d6c325d24c",
        "colab": {
          "base_uri": "https://localhost:8080/"
        }
      },
      "execution_count": 26,
      "outputs": [
        {
          "output_type": "stream",
          "name": "stdout",
          "text": [
            "0 - 4\n",
            "1 - 7\n",
            "2 - 10\n"
          ]
        }
      ]
    },
    {
      "cell_type": "code",
      "source": [
        "vetor.excluir(7)"
      ],
      "metadata": {
        "id": "qHDUh12Y4w39"
      },
      "execution_count": 27,
      "outputs": []
    },
    {
      "cell_type": "code",
      "source": [
        "vetor.imprime()"
      ],
      "metadata": {
        "id": "LFWGy4-k40F3",
        "outputId": "f772f545-fce9-416f-a2e2-5e8b21a78a73",
        "colab": {
          "base_uri": "https://localhost:8080/"
        }
      },
      "execution_count": 28,
      "outputs": [
        {
          "output_type": "stream",
          "name": "stdout",
          "text": [
            "0 - 4\n",
            "1 - 10\n"
          ]
        }
      ]
    }
  ]
}